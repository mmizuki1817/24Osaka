{
  "nbformat": 4,
  "nbformat_minor": 0,
  "metadata": {
    "colab": {
      "name": "Untitled5.ipynb",
      "provenance": [],
      "authorship_tag": "ABX9TyPZ1HseMP1crjfhUeuO9651",
      "include_colab_link": true
    },
    "kernelspec": {
      "name": "python3",
      "display_name": "Python 3"
    },
    "language_info": {
      "name": "python"
    }
  },
  "cells": [
    {
      "cell_type": "markdown",
      "metadata": {
        "id": "view-in-github",
        "colab_type": "text"
      },
      "source": [
        "<a href=\"https://colab.research.google.com/github/mmizuki1817/24Osaka/blob/main/py05.ipynb\" target=\"_parent\"><img src=\"https://colab.research.google.com/assets/colab-badge.svg\" alt=\"Open In Colab\"/></a>"
      ]
    },
    {
      "cell_type": "markdown",
      "source": [
        "ex00 Design your own Class that make profits on your favorite stocks and backtest it.  \n",
        "好きな銘柄で利益を上げるクラスを自分で設計し、バックテストを行うことができます。  "
      ],
      "metadata": {
        "id": "rEX-NCJXeyeP"
      }
    },
    {
      "cell_type": "code",
      "execution_count": null,
      "metadata": {
        "id": "8t6YtybiexgH"
      },
      "outputs": [],
      "source": [
        ""
      ]
    }
  ]
}