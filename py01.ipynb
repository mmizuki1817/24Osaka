{
  "nbformat": 4,
  "nbformat_minor": 0,
  "metadata": {
    "colab": {
      "name": "Untitled1.ipynb",
      "provenance": [],
      "authorship_tag": "ABX9TyMUKG0iaDHGgXnvHcOuGp+8",
      "include_colab_link": true
    },
    "kernelspec": {
      "name": "python3",
      "display_name": "Python 3"
    },
    "language_info": {
      "name": "python"
    }
  },
  "cells": [
    {
      "cell_type": "markdown",
      "metadata": {
        "id": "view-in-github",
        "colab_type": "text"
      },
      "source": [
        "<a href=\"https://colab.research.google.com/github/mmizuki1817/24Osaka/blob/main/py01.ipynb\" target=\"_parent\"><img src=\"https://colab.research.google.com/assets/colab-badge.svg\" alt=\"Open In Colab\"/></a>"
      ]
    },
    {
      "cell_type": "markdown",
      "source": [
        "ex00 Create a numpy array of [0, 1, 2, 3, 4, 5, 6, 7, 8, 9]"
      ],
      "metadata": {
        "id": "YV5zOFCLGobe"
      }
    },
    {
      "cell_type": "code",
      "execution_count": 1,
      "metadata": {
        "colab": {
          "base_uri": "https://localhost:8080/"
        },
        "id": "qD038l_OApa2",
        "outputId": "ff907858-2313-44cf-c158-acf2ade67870"
      },
      "outputs": [
        {
          "output_type": "stream",
          "name": "stdout",
          "text": [
            "[0 1 2 3 4 5 6 7 8 9]\n"
          ]
        }
      ],
      "source": [
        "import numpy as np\n",
        "\n",
        "array1 = np.array([0, 1, 2, 3, 4, 5, 6, 7, 8, 9])\n",
        "print(array1)"
      ]
    },
    {
      "cell_type": "markdown",
      "source": [
        "ex01 Create a numpy array of [1, 3, 5, 7, 9, 11, 13, 15, 17, 19]   \n",
        "by using np.arange.\n"
      ],
      "metadata": {
        "id": "LZDJMdQeGnkw"
      }
    },
    {
      "cell_type": "code",
      "source": [
        "import numpy as np\n",
        "\n",
        "array1 = np.arange(1, 20, 2)\n",
        "print(array1)"
      ],
      "metadata": {
        "colab": {
          "base_uri": "https://localhost:8080/"
        },
        "id": "rsXyNcmuGwWB",
        "outputId": "b328d0cb-6cd8-46a2-f76c-3585175e4819"
      },
      "execution_count": 6,
      "outputs": [
        {
          "output_type": "stream",
          "name": "stdout",
          "text": [
            "[ 1  3  5  7  9 11 13 15 17 19]\n"
          ]
        }
      ]
    },
    {
      "cell_type": "markdown",
      "source": [
        "ex02 Create a numpy array of [1, 3, 5, 7, 9, 11, 13, 15, 17, 19] by doing multiplication of a numpy array."
      ],
      "metadata": {
        "id": "VPid1mQJHbb0"
      }
    },
    {
      "cell_type": "code",
      "source": [
        "array = []\n",
        "n = 1\n",
        "i = 1\n",
        "while (n < 20):\n",
        "  array.append(n)\n",
        "  n = 2 * i + 1\n",
        "  i += 1\n",
        "print(array)\n"
      ],
      "metadata": {
        "colab": {
          "base_uri": "https://localhost:8080/"
        },
        "id": "UiawHK-OHhFG",
        "outputId": "41f079ce-0659-436d-d118-8d643163bea9"
      },
      "execution_count": 20,
      "outputs": [
        {
          "output_type": "stream",
          "name": "stdout",
          "text": [
            "[1, 3, 5, 7, 9, 11, 13, 15, 17, 19]\n"
          ]
        }
      ]
    },
    {
      "cell_type": "markdown",
      "source": [
        "ex03 Create a numpy array of [ 0, 1, 4, 9, 16, 25, 36, 49, 64, 81] by doing multiplication of a numpy array."
      ],
      "metadata": {
        "id": "9HkZSd70IgvC"
      }
    },
    {
      "cell_type": "code",
      "source": [
        "array = []\n",
        "n = 0\n",
        "while (n < 10):\n",
        "  i = n * n\n",
        "  array.append(i)\n",
        "  n += 1\n",
        "print(array) "
      ],
      "metadata": {
        "colab": {
          "base_uri": "https://localhost:8080/"
        },
        "id": "0ENIA3-QL3PZ",
        "outputId": "d1116a3b-eccb-4915-f952-5afb4f3bef8a"
      },
      "execution_count": 22,
      "outputs": [
        {
          "output_type": "stream",
          "name": "stdout",
          "text": [
            "[0, 1, 4, 9, 16, 25, 36, 49, 64, 81]\n"
          ]
        }
      ]
    },
    {
      "cell_type": "markdown",
      "source": [
        "ex04 Create a numpy array of [-2, -1.99, -1.98,· · · , 1.99, 2.00] using np.linspace."
      ],
      "metadata": {
        "id": "-Feh5dnRH9jc"
      }
    },
    {
      "cell_type": "code",
      "source": [
        "import numpy as np\n",
        "\n",
        "array = np.linspace(-2.00, 2.00, 401)\n",
        "print(array)\n",
        "\n",
        " #np.lispace(start, stop, num(間隔ではなく要素数))"
      ],
      "metadata": {
        "colab": {
          "base_uri": "https://localhost:8080/"
        },
        "id": "iWBnTFfnNIPD",
        "outputId": "eeeff6a9-e7c6-4052-817c-42afd0675f15"
      },
      "execution_count": 33,
      "outputs": [
        {
          "output_type": "stream",
          "name": "stdout",
          "text": [
            "[-2.   -1.99 -1.98 -1.97 -1.96 -1.95 -1.94 -1.93 -1.92 -1.91 -1.9  -1.89\n",
            " -1.88 -1.87 -1.86 -1.85 -1.84 -1.83 -1.82 -1.81 -1.8  -1.79 -1.78 -1.77\n",
            " -1.76 -1.75 -1.74 -1.73 -1.72 -1.71 -1.7  -1.69 -1.68 -1.67 -1.66 -1.65\n",
            " -1.64 -1.63 -1.62 -1.61 -1.6  -1.59 -1.58 -1.57 -1.56 -1.55 -1.54 -1.53\n",
            " -1.52 -1.51 -1.5  -1.49 -1.48 -1.47 -1.46 -1.45 -1.44 -1.43 -1.42 -1.41\n",
            " -1.4  -1.39 -1.38 -1.37 -1.36 -1.35 -1.34 -1.33 -1.32 -1.31 -1.3  -1.29\n",
            " -1.28 -1.27 -1.26 -1.25 -1.24 -1.23 -1.22 -1.21 -1.2  -1.19 -1.18 -1.17\n",
            " -1.16 -1.15 -1.14 -1.13 -1.12 -1.11 -1.1  -1.09 -1.08 -1.07 -1.06 -1.05\n",
            " -1.04 -1.03 -1.02 -1.01 -1.   -0.99 -0.98 -0.97 -0.96 -0.95 -0.94 -0.93\n",
            " -0.92 -0.91 -0.9  -0.89 -0.88 -0.87 -0.86 -0.85 -0.84 -0.83 -0.82 -0.81\n",
            " -0.8  -0.79 -0.78 -0.77 -0.76 -0.75 -0.74 -0.73 -0.72 -0.71 -0.7  -0.69\n",
            " -0.68 -0.67 -0.66 -0.65 -0.64 -0.63 -0.62 -0.61 -0.6  -0.59 -0.58 -0.57\n",
            " -0.56 -0.55 -0.54 -0.53 -0.52 -0.51 -0.5  -0.49 -0.48 -0.47 -0.46 -0.45\n",
            " -0.44 -0.43 -0.42 -0.41 -0.4  -0.39 -0.38 -0.37 -0.36 -0.35 -0.34 -0.33\n",
            " -0.32 -0.31 -0.3  -0.29 -0.28 -0.27 -0.26 -0.25 -0.24 -0.23 -0.22 -0.21\n",
            " -0.2  -0.19 -0.18 -0.17 -0.16 -0.15 -0.14 -0.13 -0.12 -0.11 -0.1  -0.09\n",
            " -0.08 -0.07 -0.06 -0.05 -0.04 -0.03 -0.02 -0.01  0.    0.01  0.02  0.03\n",
            "  0.04  0.05  0.06  0.07  0.08  0.09  0.1   0.11  0.12  0.13  0.14  0.15\n",
            "  0.16  0.17  0.18  0.19  0.2   0.21  0.22  0.23  0.24  0.25  0.26  0.27\n",
            "  0.28  0.29  0.3   0.31  0.32  0.33  0.34  0.35  0.36  0.37  0.38  0.39\n",
            "  0.4   0.41  0.42  0.43  0.44  0.45  0.46  0.47  0.48  0.49  0.5   0.51\n",
            "  0.52  0.53  0.54  0.55  0.56  0.57  0.58  0.59  0.6   0.61  0.62  0.63\n",
            "  0.64  0.65  0.66  0.67  0.68  0.69  0.7   0.71  0.72  0.73  0.74  0.75\n",
            "  0.76  0.77  0.78  0.79  0.8   0.81  0.82  0.83  0.84  0.85  0.86  0.87\n",
            "  0.88  0.89  0.9   0.91  0.92  0.93  0.94  0.95  0.96  0.97  0.98  0.99\n",
            "  1.    1.01  1.02  1.03  1.04  1.05  1.06  1.07  1.08  1.09  1.1   1.11\n",
            "  1.12  1.13  1.14  1.15  1.16  1.17  1.18  1.19  1.2   1.21  1.22  1.23\n",
            "  1.24  1.25  1.26  1.27  1.28  1.29  1.3   1.31  1.32  1.33  1.34  1.35\n",
            "  1.36  1.37  1.38  1.39  1.4   1.41  1.42  1.43  1.44  1.45  1.46  1.47\n",
            "  1.48  1.49  1.5   1.51  1.52  1.53  1.54  1.55  1.56  1.57  1.58  1.59\n",
            "  1.6   1.61  1.62  1.63  1.64  1.65  1.66  1.67  1.68  1.69  1.7   1.71\n",
            "  1.72  1.73  1.74  1.75  1.76  1.77  1.78  1.79  1.8   1.81  1.82  1.83\n",
            "  1.84  1.85  1.86  1.87  1.88  1.89  1.9   1.91  1.92  1.93  1.94  1.95\n",
            "  1.96  1.97  1.98  1.99  2.  ]\n"
          ]
        }
      ]
    },
    {
      "cell_type": "markdown",
      "source": [
        "ex05 Plot y = x^2 with pink."
      ],
      "metadata": {
        "id": "rYSMV5luMjHi"
      }
    },
    {
      "cell_type": "markdown",
      "source": [
        "![スクリーンショット.jpg](data:image/jpeg;base64,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)"
      ],
      "metadata": {
        "id": "2h86e1_sNFKR"
      }
    },
    {
      "cell_type": "code",
      "source": [
        "import numpy as np\n",
        "import matplotlib.pyplot as plt\n",
        "import matplotlib.pyplot as savefig\n",
        "\n",
        "x = np.arange(-2, 2, 0.00001)\n",
        "y = x * x\n",
        "\n",
        "fig = plt.figure()\n",
        "ax = fig.add_subplot(1, 1, 1)\n",
        "\n",
        "plt.title(\"y = x^2\")\n",
        "plt.xlabel(\"x\", fontsize=20)\n",
        "plt.ylabel(\"y\", fontsize=20)\n",
        "\n",
        "ax.plot(x, y, color = \"pink\")\n",
        "plt.savefig(\"y=x^2.jpg\")\n"
      ],
      "metadata": {
        "colab": {
          "base_uri": "https://localhost:8080/",
          "height": 304
        },
        "id": "r_UGwgqvMW0n",
        "outputId": "cb1f286e-03cf-4b3e-8d5b-05d502f9b2af"
      },
      "execution_count": 44,
      "outputs": [
        {
          "output_type": "display_data",
          "data": {
            "image/png": "[encoded data removed]",
            "text/plain": [
              "<Figure size 432x288 with 1 Axes>"
            ]
          },
          "metadata": {
            "needs_background": "light"
          }
        }
      ]
    },
    {
      "cell_type": "markdown",
      "source": [
        "ex06 Plot following functions between (−2 ≦ x ≦ 2) with pink in the same figure.  \n",
        "\n",
        "f(x) = |x|  \n",
        "g(x) = sin(πx/2)^2 + 2"
      ],
      "metadata": {
        "id": "QizSZQsfMXJb"
      }
    },
    {
      "cell_type": "code",
      "source": [
        "import math\n",
        "import numpy as np\n",
        "import matplotlib.pyplot as plt\n",
        "import matplotlib.pyplot as savefig\n",
        "\n",
        "def main():\n",
        "  fig = plt.figure()\n",
        "  ax = fig.add_subplot(1, 1, 1)\n",
        "\n",
        "  y1 = f(x)\n",
        "  ax.plot(x, y1, color = \"pink\")\n",
        "\n",
        "  y2 = g(x)\n",
        "  ax.plot(x, y2, color = \"pink\")\n",
        "\n",
        "  plt.xlabel(\"x\", fontsize=20)\n",
        "  plt.ylabel(\"y\", fontsize=20)\n",
        "  plt.savefig(\"figure.jpg\")\n",
        "\n",
        "#f(x) = |x|\n",
        "def f(x):\n",
        "  x = np.linspace(-2, 2, 401)\n",
        "  y = np.abs(x)\n",
        "  return (y)\n",
        "\n",
        "#g(x) = sin(πx/2)^2 + 2\n",
        "def g(x):\n",
        "  x = np.linspace(-2, 2, 401)\n",
        "\n",
        "  y = np.sin(math.pi * x / 2) ** 2 + 2\n",
        "  return (y)\n",
        "\n",
        "main()"
      ],
      "metadata": {
        "colab": {
          "base_uri": "https://localhost:8080/",
          "height": 288
        },
        "id": "GZW9J87uzL91",
        "outputId": "7378eb74-79a9-4913-d4ab-5b1fd4dab682"
      },
      "execution_count": 81,
      "outputs": [
        {
          "output_type": "display_data",
          "data": {
            "image/png": "[encoded data removed]",
            "text/plain": [
              "<Figure size 432x288 with 1 Axes>"
            ]
          },
          "metadata": {
            "needs_background": "light"
          }
        }
      ]
    }
  ]
}