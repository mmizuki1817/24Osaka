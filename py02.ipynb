{
  "nbformat": 4,
  "nbformat_minor": 0,
  "metadata": {
    "colab": {
      "name": "Untitled2.ipynb",
      "provenance": [],
      "authorship_tag": "ABX9TyM9J1Qzv890oyyieici57Ik",
      "include_colab_link": true
    },
    "kernelspec": {
      "name": "python3",
      "display_name": "Python 3"
    },
    "language_info": {
      "name": "python"
    }
  },
  "cells": [
    {
      "cell_type": "markdown",
      "metadata": {
        "id": "view-in-github",
        "colab_type": "text"
      },
      "source": [
        "<a href=\"https://colab.research.google.com/github/mmizuki1817/24Osaka/blob/main/py02.ipynb\" target=\"_parent\"><img src=\"https://colab.research.google.com/assets/colab-badge.svg\" alt=\"Open In Colab\"/></a>"
      ]
    },
    {
      "cell_type": "markdown",
      "source": [
        "ex00 Get the Apple’s daily stock prices in 2021 from Stooq and store it in the DataFrame called df.  \n",
        "You may import pandas datareader, datetime, and andas.  \n",
        "Stooqから2021年のAppleの日次株価を取得し、dfというDataFrameに格納します。  \n",
        "pandasのdatareader、datetime、andasをインポートしてもよい。"
      ],
      "metadata": {
        "id": "x4lveZOq2kMM"
      }
    },
    {
      "cell_type": "code",
      "source": [
        "from pandas_datareader.stooq import StooqDailyReader\n",
        "from datetime import datetime\n",
        "\n",
        "start = datetime(2021, 1, 1)\n",
        "end = datetime(2021, 12, 31)\n",
        "brand = 'AAPL'\n",
        "\n",
        "stooq = StooqDailyReader(brand, start=start, end=end)\n",
        "df = stooq.read()\n",
        "display(df)\n",
        "\n",
        "#stooq参考https://blog.stu345.com/stooqapi/\n",
        "#pandas参考https://tanudon.work/273/"
      ],
      "metadata": {
        "id": "IR86yYcL-noH",
        "outputId": "fb002c97-47a4-4dbe-e762-b979183f185a",
        "colab": {
          "base_uri": "https://localhost:8080/",
          "height": 455
        }
      },
      "execution_count": 42,
      "outputs": [
        {
          "output_type": "display_data",
          "data": {
            "text/html": [
              "\n",
              "  <div id=\"df-33548818-2cbf-4d83-ae37-52c64aa8c6a2\">\n",
              "    <div class=\"colab-df-container\">\n",
              "      <div>\n",
              "<style scoped>\n",
              "    .dataframe tbody tr th:only-of-type {\n",
              "        vertical-align: middle;\n",
              "    }\n",
              "\n",
              "    .dataframe tbody tr th {\n",
              "        vertical-align: top;\n",
              "    }\n",
              "\n",
              "    .dataframe thead th {\n",
              "        text-align: right;\n",
              "    }\n",
              "</style>\n",
              "<table border=\"1\" class=\"dataframe\">\n",
              "  <thead>\n",
              "    <tr style=\"text-align: right;\">\n",
              "      <th></th>\n",
              "      <th>Open</th>\n",
              "      <th>High</th>\n",
              "      <th>Low</th>\n",
              "      <th>Close</th>\n",
              "      <th>Volume</th>\n",
              "    </tr>\n",
              "    <tr>\n",
              "      <th>Date</th>\n",
              "      <th></th>\n",
              "      <th></th>\n",
              "      <th></th>\n",
              "      <th></th>\n",
              "      <th></th>\n",
              "    </tr>\n",
              "  </thead>\n",
              "  <tbody>\n",
              "    <tr>\n",
              "      <th>2021-12-31</th>\n",
              "      <td>178.085</td>\n",
              "      <td>179.23</td>\n",
              "      <td>177.26</td>\n",
              "      <td>177.57</td>\n",
              "      <td>64062261</td>\n",
              "    </tr>\n",
              "    <tr>\n",
              "      <th>2021-12-30</th>\n",
              "      <td>179.470</td>\n",
              "      <td>180.57</td>\n",
              "      <td>178.09</td>\n",
              "      <td>178.20</td>\n",
              "      <td>59773014</td>\n",
              "    </tr>\n",
              "    <tr>\n",
              "      <th>2021-12-29</th>\n",
              "      <td>179.330</td>\n",
              "      <td>180.63</td>\n",
              "      <td>178.14</td>\n",
              "      <td>179.38</td>\n",
              "      <td>62348931</td>\n",
              "    </tr>\n",
              "    <tr>\n",
              "      <th>2021-12-28</th>\n",
              "      <td>180.160</td>\n",
              "      <td>181.33</td>\n",
              "      <td>178.53</td>\n",
              "      <td>179.29</td>\n",
              "      <td>79144339</td>\n",
              "    </tr>\n",
              "    <tr>\n",
              "      <th>2021-12-27</th>\n",
              "      <td>177.085</td>\n",
              "      <td>180.42</td>\n",
              "      <td>177.07</td>\n",
              "      <td>180.33</td>\n",
              "      <td>74919582</td>\n",
              "    </tr>\n",
              "    <tr>\n",
              "      <th>...</th>\n",
              "      <td>...</td>\n",
              "      <td>...</td>\n",
              "      <td>...</td>\n",
              "      <td>...</td>\n",
              "      <td>...</td>\n",
              "    </tr>\n",
              "    <tr>\n",
              "      <th>2021-01-08</th>\n",
              "      <td>131.620</td>\n",
              "      <td>131.82</td>\n",
              "      <td>129.44</td>\n",
              "      <td>131.24</td>\n",
              "      <td>105806524</td>\n",
              "    </tr>\n",
              "    <tr>\n",
              "      <th>2021-01-07</th>\n",
              "      <td>127.570</td>\n",
              "      <td>130.82</td>\n",
              "      <td>127.07</td>\n",
              "      <td>130.11</td>\n",
              "      <td>110253683</td>\n",
              "    </tr>\n",
              "    <tr>\n",
              "      <th>2021-01-06</th>\n",
              "      <td>126.930</td>\n",
              "      <td>130.24</td>\n",
              "      <td>125.61</td>\n",
              "      <td>125.83</td>\n",
              "      <td>156044055</td>\n",
              "    </tr>\n",
              "    <tr>\n",
              "      <th>2021-01-05</th>\n",
              "      <td>128.100</td>\n",
              "      <td>130.93</td>\n",
              "      <td>127.64</td>\n",
              "      <td>130.20</td>\n",
              "      <td>98266981</td>\n",
              "    </tr>\n",
              "    <tr>\n",
              "      <th>2021-01-04</th>\n",
              "      <td>132.700</td>\n",
              "      <td>132.79</td>\n",
              "      <td>125.99</td>\n",
              "      <td>128.62</td>\n",
              "      <td>144185313</td>\n",
              "    </tr>\n",
              "  </tbody>\n",
              "</table>\n",
              "<p>252 rows × 5 columns</p>\n",
              "</div>\n",
              "      <button class=\"colab-df-convert\" onclick=\"convertToInteractive('df-33548818-2cbf-4d83-ae37-52c64aa8c6a2')\"\n",
              "              title=\"Convert this dataframe to an interactive table.\"\n",
              "              style=\"display:none;\">\n",
              "        \n",
              "  <svg xmlns=\"http://www.w3.org/2000/svg\" height=\"24px\"viewBox=\"0 0 24 24\"\n",
              "       width=\"24px\">\n",
              "    <path d=\"M0 0h24v24H0V0z\" fill=\"none\"/>\n",
              "    <path d=\"M18.56 5.44l.94 2.06.94-2.06 2.06-.94-2.06-.94-.94-2.06-.94 2.06-2.06.94zm-11 1L8.5 8.5l.94-2.06 2.06-.94-2.06-.94L8.5 2.5l-.94 2.06-2.06.94zm10 10l.94 2.06.94-2.06 2.06-.94-2.06-.94-.94-2.06-.94 2.06-2.06.94z\"/><path d=\"M17.41 7.96l-1.37-1.37c-.4-.4-.92-.59-1.43-.59-.52 0-1.04.2-1.43.59L10.3 9.45l-7.72 7.72c-.78.78-.78 2.05 0 2.83L4 21.41c.39.39.9.59 1.41.59.51 0 1.02-.2 1.41-.59l7.78-7.78 2.81-2.81c.8-.78.8-2.07 0-2.86zM5.41 20L4 18.59l7.72-7.72 1.47 1.35L5.41 20z\"/>\n",
              "  </svg>\n",
              "      </button>\n",
              "      \n",
              "  <style>\n",
              "    .colab-df-container {\n",
              "      display:flex;\n",
              "      flex-wrap:wrap;\n",
              "      gap: 12px;\n",
              "    }\n",
              "\n",
              "    .colab-df-convert {\n",
              "      background-color: #E8F0FE;\n",
              "      border: none;\n",
              "      border-radius: 50%;\n",
              "      cursor: pointer;\n",
              "      display: none;\n",
              "      fill: #1967D2;\n",
              "      height: 32px;\n",
              "      padding: 0 0 0 0;\n",
              "      width: 32px;\n",
              "    }\n",
              "\n",
              "    .colab-df-convert:hover {\n",
              "      background-color: #E2EBFA;\n",
              "      box-shadow: 0px 1px 2px rgba(60, 64, 67, 0.3), 0px 1px 3px 1px rgba(60, 64, 67, 0.15);\n",
              "      fill: #174EA6;\n",
              "    }\n",
              "\n",
              "    [theme=dark] .colab-df-convert {\n",
              "      background-color: #3B4455;\n",
              "      fill: #D2E3FC;\n",
              "    }\n",
              "\n",
              "    [theme=dark] .colab-df-convert:hover {\n",
              "      background-color: #434B5C;\n",
              "      box-shadow: 0px 1px 3px 1px rgba(0, 0, 0, 0.15);\n",
              "      filter: drop-shadow(0px 1px 2px rgba(0, 0, 0, 0.3));\n",
              "      fill: #FFFFFF;\n",
              "    }\n",
              "  </style>\n",
              "\n",
              "      <script>\n",
              "        const buttonEl =\n",
              "          document.querySelector('#df-33548818-2cbf-4d83-ae37-52c64aa8c6a2 button.colab-df-convert');\n",
              "        buttonEl.style.display =\n",
              "          google.colab.kernel.accessAllowed ? 'block' : 'none';\n",
              "\n",
              "        async function convertToInteractive(key) {\n",
              "          const element = document.querySelector('#df-33548818-2cbf-4d83-ae37-52c64aa8c6a2');\n",
              "          const dataTable =\n",
              "            await google.colab.kernel.invokeFunction('convertToInteractive',\n",
              "                                                     [key], {});\n",
              "          if (!dataTable) return;\n",
              "\n",
              "          const docLinkHtml = 'Like what you see? Visit the ' +\n",
              "            '<a target=\"_blank\" href=https://colab.research.google.com/notebooks/data_table.ipynb>data table notebook</a>'\n",
              "            + ' to learn more about interactive tables.';\n",
              "          element.innerHTML = '';\n",
              "          dataTable['output_type'] = 'display_data';\n",
              "          await google.colab.output.renderOutput(dataTable, element);\n",
              "          const docLink = document.createElement('div');\n",
              "          docLink.innerHTML = docLinkHtml;\n",
              "          element.appendChild(docLink);\n",
              "        }\n",
              "      </script>\n",
              "    </div>\n",
              "  </div>\n",
              "  "
            ],
            "text/plain": [
              "               Open    High     Low   Close     Volume\n",
              "Date                                                  \n",
              "2021-12-31  178.085  179.23  177.26  177.57   64062261\n",
              "2021-12-30  179.470  180.57  178.09  178.20   59773014\n",
              "2021-12-29  179.330  180.63  178.14  179.38   62348931\n",
              "2021-12-28  180.160  181.33  178.53  179.29   79144339\n",
              "2021-12-27  177.085  180.42  177.07  180.33   74919582\n",
              "...             ...     ...     ...     ...        ...\n",
              "2021-01-08  131.620  131.82  129.44  131.24  105806524\n",
              "2021-01-07  127.570  130.82  127.07  130.11  110253683\n",
              "2021-01-06  126.930  130.24  125.61  125.83  156044055\n",
              "2021-01-05  128.100  130.93  127.64  130.20   98266981\n",
              "2021-01-04  132.700  132.79  125.99  128.62  144185313\n",
              "\n",
              "[252 rows x 5 columns]"
            ]
          },
          "metadata": {}
        }
      ]
    },
    {
      "cell_type": "markdown",
      "source": [
        "ex01 display df by just typing df.\n",
        "> df  \n",
        "—-data will be displayed here—-"
      ],
      "metadata": {
        "id": "LJsy2LsPTIAz"
      }
    },
    {
      "cell_type": "code",
      "source": [
        "# 複数の銘柄から選択してグラフを表示に変更\n",
        "\n",
        "from pandas_datareader.stooq import StooqDailyReader\n",
        "from datetime import datetime\n",
        "import matplotlib.pyplot as plt\n",
        "\n",
        "def main():\n",
        "  print(\"Choose stooq from below:\")\n",
        "  print(\"AAPL, BABA, BIDU, DIS, FB\")\n",
        "  s = input(\"\")\n",
        "  if s == \"AAPL\" or s == \"BABA\" or s == \"BIDU\" or s == \"DIS\" or s == \"FB\":\n",
        "    display_df(s)\n",
        "\n",
        "def display_df(s):\n",
        "  start = datetime(2021, 1, 1)\n",
        "  end = datetime(2021, 12, 31)\n",
        "  brand = s\n",
        "  \n",
        "  stooq = StooqDailyReader(brand, start=start, end=end)\n",
        "  df = stooq.read()\n",
        "  plt.figure()\n",
        "  data[['Open', 'High', 'Low', 'Close']].plot()\n",
        "  plt.title(s)\n",
        "  plt.savefig('stooq.jpg')\n",
        "  \n",
        "main()\n",
        "\n",
        "#銘柄一覧https://www.mito.co.jp/products/foreignstock/lineup.html\n",
        "   "
      ],
      "metadata": {
        "colab": {
          "base_uri": "https://localhost:8080/",
          "height": 362
        },
        "id": "ILzSp7DzSQqo",
        "outputId": "49eb8092-01d9-42c9-810c-49621a9a8e88"
      },
      "execution_count": 31,
      "outputs": [
        {
          "name": "stdout",
          "output_type": "stream",
          "text": [
            "Choose stooq from below:\n",
            "AAPL, BABA, BIDU, DIS, FB\n",
            "FB\n"
          ]
        },
        {
          "output_type": "display_data",
          "data": {
            "text/plain": [
              "<Figure size 432x288 with 0 Axes>"
            ]
          },
          "metadata": {}
        },
        {
          "output_type": "display_data",
          "data": {
            "image/png": "[encoded data removed]",
            "text/plain": [
              "<Figure size 432x288 with 1 Axes>"
            ]
          },
          "metadata": {
            "needs_background": "light"
          }
        }
      ]
    },
    {
      "cell_type": "markdown",
      "source": [
        "ex02 Extract the close prices from df.  \n",
        "dfから終値を抽出します。"
      ],
      "metadata": {
        "id": "P22ufrmf2xpZ"
      }
    },
    {
      "cell_type": "code",
      "source": [
        "from pandas_datareader.stooq import StooqDailyReader\n",
        "from datetime import datetime\n",
        "\n",
        "start = datetime(2021, 1, 1)\n",
        "end = datetime(2021, 12, 31)\n",
        "\n",
        "stooq = StooqDailyReader('AAPL', start=start, end=end)\n",
        "df = stooq.read()\n",
        "display(data['Close'])"
      ],
      "metadata": {
        "id": "WueZrxliUDkE",
        "outputId": "07861bc4-f8bb-4a96-979a-69a7eef9d594",
        "colab": {
          "base_uri": "https://localhost:8080/",
          "height": 243
        }
      },
      "execution_count": 43,
      "outputs": [
        {
          "output_type": "display_data",
          "data": {
            "text/plain": [
              "Date\n",
              "2021-12-31    177.57\n",
              "2021-12-30    178.20\n",
              "2021-12-29    179.38\n",
              "2021-12-28    179.29\n",
              "2021-12-27    180.33\n",
              "               ...  \n",
              "2021-01-08    131.24\n",
              "2021-01-07    130.11\n",
              "2021-01-06    125.83\n",
              "2021-01-05    130.20\n",
              "2021-01-04    128.62\n",
              "Name: Close, Length: 252, dtype: float64"
            ]
          },
          "metadata": {}
        }
      ]
    },
    {
      "cell_type": "markdown",
      "source": [
        "ex03 Extract the open, high, low, and close prices and the volume of February 4 from df.  \n",
        "dfから2021年2月4日の始値、高値、安値、終値と出来高を抽出します。"
      ],
      "metadata": {
        "id": "CUUo0unz2-Mm"
      }
    },
    {
      "cell_type": "code",
      "source": [
        "from pandas_datareader.stooq import StooqDailyReader\n",
        "from datetime import datetime\n",
        "\n",
        "def main():\n",
        "  df = get_dif()\n",
        "  extract = df.loc[\"2021-02-04\"]\n",
        "  display(extract)\n",
        "\n",
        "def get_dif():\n",
        "  start = datetime(2021, 1, 1)\n",
        "  end = datetime(2021, 12, 31)\n",
        "  brand = 'AAPL'\n",
        "\n",
        "  stooq = StooqDailyReader(brand, start=start, end=end)\n",
        "  df = stooq.read()\n",
        "  return df\n",
        "main()"
      ],
      "metadata": {
        "id": "T-mg7ajrW23K",
        "outputId": "16c2651a-1ace-4a59-a566-eca2f103dd40",
        "colab": {
          "base_uri": "https://localhost:8080/",
          "height": 112
        }
      },
      "execution_count": 57,
      "outputs": [
        {
          "output_type": "display_data",
          "data": {
            "text/html": [
              "\n",
              "  <div id=\"df-ca5e25c6-38b0-4d1a-8c78-1cf8270b9698\">\n",
              "    <div class=\"colab-df-container\">\n",
              "      <div>\n",
              "<style scoped>\n",
              "    .dataframe tbody tr th:only-of-type {\n",
              "        vertical-align: middle;\n",
              "    }\n",
              "\n",
              "    .dataframe tbody tr th {\n",
              "        vertical-align: top;\n",
              "    }\n",
              "\n",
              "    .dataframe thead th {\n",
              "        text-align: right;\n",
              "    }\n",
              "</style>\n",
              "<table border=\"1\" class=\"dataframe\">\n",
              "  <thead>\n",
              "    <tr style=\"text-align: right;\">\n",
              "      <th></th>\n",
              "      <th>Open</th>\n",
              "      <th>High</th>\n",
              "      <th>Low</th>\n",
              "      <th>Close</th>\n",
              "      <th>Volume</th>\n",
              "    </tr>\n",
              "    <tr>\n",
              "      <th>Date</th>\n",
              "      <th></th>\n",
              "      <th></th>\n",
              "      <th></th>\n",
              "      <th></th>\n",
              "      <th></th>\n",
              "    </tr>\n",
              "  </thead>\n",
              "  <tbody>\n",
              "    <tr>\n",
              "      <th>2021-02-04</th>\n",
              "      <td>135.47</td>\n",
              "      <td>136.56</td>\n",
              "      <td>133.76</td>\n",
              "      <td>136.55</td>\n",
              "      <td>84702032</td>\n",
              "    </tr>\n",
              "  </tbody>\n",
              "</table>\n",
              "</div>\n",
              "      <button class=\"colab-df-convert\" onclick=\"convertToInteractive('df-ca5e25c6-38b0-4d1a-8c78-1cf8270b9698')\"\n",
              "              title=\"Convert this dataframe to an interactive table.\"\n",
              "              style=\"display:none;\">\n",
              "        \n",
              "  <svg xmlns=\"http://www.w3.org/2000/svg\" height=\"24px\"viewBox=\"0 0 24 24\"\n",
              "       width=\"24px\">\n",
              "    <path d=\"M0 0h24v24H0V0z\" fill=\"none\"/>\n",
              "    <path d=\"M18.56 5.44l.94 2.06.94-2.06 2.06-.94-2.06-.94-.94-2.06-.94 2.06-2.06.94zm-11 1L8.5 8.5l.94-2.06 2.06-.94-2.06-.94L8.5 2.5l-.94 2.06-2.06.94zm10 10l.94 2.06.94-2.06 2.06-.94-2.06-.94-.94-2.06-.94 2.06-2.06.94z\"/><path d=\"M17.41 7.96l-1.37-1.37c-.4-.4-.92-.59-1.43-.59-.52 0-1.04.2-1.43.59L10.3 9.45l-7.72 7.72c-.78.78-.78 2.05 0 2.83L4 21.41c.39.39.9.59 1.41.59.51 0 1.02-.2 1.41-.59l7.78-7.78 2.81-2.81c.8-.78.8-2.07 0-2.86zM5.41 20L4 18.59l7.72-7.72 1.47 1.35L5.41 20z\"/>\n",
              "  </svg>\n",
              "      </button>\n",
              "      \n",
              "  <style>\n",
              "    .colab-df-container {\n",
              "      display:flex;\n",
              "      flex-wrap:wrap;\n",
              "      gap: 12px;\n",
              "    }\n",
              "\n",
              "    .colab-df-convert {\n",
              "      background-color: #E8F0FE;\n",
              "      border: none;\n",
              "      border-radius: 50%;\n",
              "      cursor: pointer;\n",
              "      display: none;\n",
              "      fill: #1967D2;\n",
              "      height: 32px;\n",
              "      padding: 0 0 0 0;\n",
              "      width: 32px;\n",
              "    }\n",
              "\n",
              "    .colab-df-convert:hover {\n",
              "      background-color: #E2EBFA;\n",
              "      box-shadow: 0px 1px 2px rgba(60, 64, 67, 0.3), 0px 1px 3px 1px rgba(60, 64, 67, 0.15);\n",
              "      fill: #174EA6;\n",
              "    }\n",
              "\n",
              "    [theme=dark] .colab-df-convert {\n",
              "      background-color: #3B4455;\n",
              "      fill: #D2E3FC;\n",
              "    }\n",
              "\n",
              "    [theme=dark] .colab-df-convert:hover {\n",
              "      background-color: #434B5C;\n",
              "      box-shadow: 0px 1px 3px 1px rgba(0, 0, 0, 0.15);\n",
              "      filter: drop-shadow(0px 1px 2px rgba(0, 0, 0, 0.3));\n",
              "      fill: #FFFFFF;\n",
              "    }\n",
              "  </style>\n",
              "\n",
              "      <script>\n",
              "        const buttonEl =\n",
              "          document.querySelector('#df-ca5e25c6-38b0-4d1a-8c78-1cf8270b9698 button.colab-df-convert');\n",
              "        buttonEl.style.display =\n",
              "          google.colab.kernel.accessAllowed ? 'block' : 'none';\n",
              "\n",
              "        async function convertToInteractive(key) {\n",
              "          const element = document.querySelector('#df-ca5e25c6-38b0-4d1a-8c78-1cf8270b9698');\n",
              "          const dataTable =\n",
              "            await google.colab.kernel.invokeFunction('convertToInteractive',\n",
              "                                                     [key], {});\n",
              "          if (!dataTable) return;\n",
              "\n",
              "          const docLinkHtml = 'Like what you see? Visit the ' +\n",
              "            '<a target=\"_blank\" href=https://colab.research.google.com/notebooks/data_table.ipynb>data table notebook</a>'\n",
              "            + ' to learn more about interactive tables.';\n",
              "          element.innerHTML = '';\n",
              "          dataTable['output_type'] = 'display_data';\n",
              "          await google.colab.output.renderOutput(dataTable, element);\n",
              "          const docLink = document.createElement('div');\n",
              "          docLink.innerHTML = docLinkHtml;\n",
              "          element.appendChild(docLink);\n",
              "        }\n",
              "      </script>\n",
              "    </div>\n",
              "  </div>\n",
              "  "
            ],
            "text/plain": [
              "              Open    High     Low   Close    Volume\n",
              "Date                                                \n",
              "2021-02-04  135.47  136.56  133.76  136.55  84702032"
            ]
          },
          "metadata": {}
        }
      ]
    },
    {
      "cell_type": "markdown",
      "source": [
        "ex04 Extract the open, high, low, and close prices and the volume of 30th data from df.  \n",
        "(2021/01/01-2021/01/31)  \n",
        "(Jan 30 is not the answer because we have holidays.)"
      ],
      "metadata": {
        "id": "XT6l0RwT2_am"
      }
    },
    {
      "cell_type": "code",
      "source": [
        "from pandas_datareader.stooq import StooqDailyReader as stooq \n",
        "\n",
        "def main():\n",
        "  df = get_df()\n",
        "  plt_df(df)\n",
        "\n",
        "def get_df():\n",
        "  start = datetime(2021, 1, 1)\n",
        "  end = datetime(2021, 12, 31)\n",
        "  brand = 'AAPL'\n",
        "\n",
        "  stooq = StooqDailyReader(brand, start=start, end=end)\n",
        "  df = stooq.read()\n",
        "  return df\n",
        "\n",
        "def plt_df(df):\n",
        "  plt.figure()\n",
        "  data[['Open', 'High', 'Low', 'Close']].plot()\n",
        "  plt.title(\"AAPL\")\n",
        "  plt.savefig(\"AAPL_stooq.jpg\")\n",
        "\n",
        "main()"
      ],
      "metadata": {
        "id": "K2rVDckjedRx",
        "outputId": "3168452d-6f16-4fcb-a4b1-c0f9e90994b7",
        "colab": {
          "base_uri": "https://localhost:8080/",
          "height": 310
        }
      },
      "execution_count": 61,
      "outputs": [
        {
          "output_type": "display_data",
          "data": {
            "text/plain": [
              "<Figure size 432x288 with 0 Axes>"
            ]
          },
          "metadata": {}
        },
        {
          "output_type": "display_data",
          "data": {
            "image/png": "[encoded data removed]",
            "text/plain": [
              "<Figure size 432x288 with 1 Axes>"
            ]
          },
          "metadata": {
            "needs_background": "light"
          }
        }
      ]
    }
  ]
}