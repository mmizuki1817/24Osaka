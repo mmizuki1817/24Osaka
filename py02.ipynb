{
  "nbformat": 4,
  "nbformat_minor": 0,
  "metadata": {
    "colab": {
      "name": "Untitled2.ipynb",
      "provenance": [],
      "authorship_tag": "ABX9TyPkVt/NdTseszTlnu2NfDDA",
      "include_colab_link": true
    },
    "kernelspec": {
      "name": "python3",
      "display_name": "Python 3"
    },
    "language_info": {
      "name": "python"
    }
  },
  "cells": [
    {
      "cell_type": "markdown",
      "metadata": {
        "id": "view-in-github",
        "colab_type": "text"
      },
      "source": [
        "<a href=\"https://colab.research.google.com/github/mmizuki1817/24Osaka/blob/main/py02.ipynb\" target=\"_parent\"><img src=\"https://colab.research.google.com/assets/colab-badge.svg\" alt=\"Open In Colab\"/></a>"
      ]
    },
    {
      "cell_type": "markdown",
      "source": [
        "ex00 Get the Apple’s daily stock prices in 2021 from Stooq and store it in the DataFrame called df.  \n",
        "You may import pandas datareader, datetime, and andas.  \n",
        "Stooqから2021年のAppleの日次株価を取得し、dfというDataFrameに格納します。  \n",
        "pandasのdatareader、datetime、andasをインポートしてもよい。"
      ],
      "metadata": {
        "id": "x4lveZOq2kMM"
      }
    },
    {
      "cell_type": "code",
      "source": [
        "from pandas_datareader.stooq import StooqDailyReader\n",
        "from datetime import datetime\n",
        "\n",
        "start = datetime(2021, 1, 1)\n",
        "end = datetime(2021, 12, 31)\n",
        "brand = 'AAPL'\n",
        "\n",
        "stooq = StooqDailyReader(brand, start=start, end=end)\n",
        "df = stooq.read()\n",
        "print(df)\n",
        "\n",
        "#参考https://blog.stu345.com/stooqapi/"
      ],
      "metadata": {
        "id": "IR86yYcL-noH",
        "outputId": "fc0f98ea-e316-484b-8c06-260aabf874bb",
        "colab": {
          "base_uri": "https://localhost:8080/"
        }
      },
      "execution_count": null,
      "outputs": [
        {
          "output_type": "stream",
          "name": "stdout",
          "text": [
            "               Open    High     Low   Close     Volume\n",
            "Date                                                  \n",
            "2021-12-31  178.085  179.23  177.26  177.57   64062261\n",
            "2021-12-30  179.470  180.57  178.09  178.20   59773014\n",
            "2021-12-29  179.330  180.63  178.14  179.38   62348931\n",
            "2021-12-28  180.160  181.33  178.53  179.29   79144339\n",
            "2021-12-27  177.085  180.42  177.07  180.33   74919582\n",
            "...             ...     ...     ...     ...        ...\n",
            "2021-01-08  131.620  131.82  129.44  131.24  105806524\n",
            "2021-01-07  127.570  130.82  127.07  130.11  110253683\n",
            "2021-01-06  126.930  130.24  125.61  125.83  156044055\n",
            "2021-01-05  128.100  130.93  127.64  130.20   98266981\n",
            "2021-01-04  132.700  132.79  125.99  128.62  144185313\n",
            "\n",
            "[252 rows x 5 columns]\n"
          ]
        }
      ]
    },
    {
      "cell_type": "markdown",
      "source": [
        "ex01 display df by just typing df.\n",
        "> df  \n",
        "—-data will be displayed here—-"
      ],
      "metadata": {
        "id": "LJsy2LsPTIAz"
      }
    },
    {
      "cell_type": "code",
      "source": [
        "# 複数の銘柄から選択してグラフを表示に変更\n",
        "\n",
        "from pandas_datareader.stooq import StooqDailyReader\n",
        "from datetime import datetime\n",
        "import matplotlib.pyplot as plt\n",
        "\n",
        "def main():\n",
        "  print(\"Choose stooq from below:\")\n",
        "  print(\"AAPL, BABA, BIDU, DIS, FB\")\n",
        "  s = input(\"\")\n",
        "  if s == \"AAPL\" or s == \"BABA\" or s == \"BIDU\" or s == \"DIS\" or s == \"FB\":\n",
        "    display_df(s)\n",
        "\n",
        "def display_df(s):\n",
        "  start = datetime(2021, 1, 1)\n",
        "  end = datetime(2021, 12, 31)\n",
        "  brand = s\n",
        "  \n",
        "  stooq = StooqDailyReader(brand, start=start, end=end)\n",
        "  df = stooq.read()\n",
        "  plt.figure()\n",
        "  data[['Open', 'High', 'Low', 'Close']].plot()\n",
        "  plt.savefig('stooq.jpg')\n",
        "  \n",
        "main()\n",
        "\n",
        "#銘柄一覧https://www.mito.co.jp/products/foreignstock/lineup.html\n",
        "   "
      ],
      "metadata": {
        "id": "ILzSp7DzSQqo",
        "outputId": "75c3e69e-3a4b-403c-f54d-46ae08b7f7c6",
        "colab": {
          "base_uri": "https://localhost:8080/",
          "height": 346
        }
      },
      "execution_count": 27,
      "outputs": [
        {
          "name": "stdout",
          "output_type": "stream",
          "text": [
            "Choose stooq from below:\n",
            "AAPL, BABA, BIDU, DIS, FB\n",
            "AAPL\n"
          ]
        },
        {
          "output_type": "display_data",
          "data": {
            "text/plain": [
              "<Figure size 432x288 with 0 Axes>"
            ]
          },
          "metadata": {}
        },
        {
          "output_type": "display_data",
          "data": {
            "image/png": "[encoded data removed]",
            "text/plain": [
              "<Figure size 432x288 with 1 Axes>"
            ]
          },
          "metadata": {
            "needs_background": "light"
          }
        }
      ]
    },
    {
      "cell_type": "markdown",
      "source": [
        "ex02 Extract the close prices from df."
      ],
      "metadata": {
        "id": "P22ufrmf2xpZ"
      }
    },
    {
      "cell_type": "markdown",
      "source": [
        "ex03 Extract the open, high, low, and close prices and the volume of February 4 from df."
      ],
      "metadata": {
        "id": "CUUo0unz2-Mm"
      }
    },
    {
      "cell_type": "markdown",
      "source": [
        "ex04 Extract the open, high, low, and close prices and the volume of 30th data from df.  \n",
        "(Jan 30 is not the answer because we have holidays.)"
      ],
      "metadata": {
        "id": "XT6l0RwT2_am"
      }
    }
  ]
}