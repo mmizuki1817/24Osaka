{
  "nbformat": 4,
  "nbformat_minor": 0,
  "metadata": {
    "colab": {
      "name": "Untitled2.ipynb",
      "provenance": [],
      "authorship_tag": "ABX9TyOjITbmiWpIerGMuCnjQHuv",
      "include_colab_link": true
    },
    "kernelspec": {
      "name": "python3",
      "display_name": "Python 3"
    },
    "language_info": {
      "name": "python"
    }
  },
  "cells": [
    {
      "cell_type": "markdown",
      "metadata": {
        "id": "view-in-github",
        "colab_type": "text"
      },
      "source": [
        "<a href=\"https://colab.research.google.com/github/mmizuki1817/24Osaka/blob/main/py02.ipynb\" target=\"_parent\"><img src=\"https://colab.research.google.com/assets/colab-badge.svg\" alt=\"Open In Colab\"/></a>"
      ]
    },
    {
      "cell_type": "markdown",
      "source": [
        "ex00 Get the Apple’s daily stock prices in 2021 from Stooq and store it in the DataFrame called df.  \n",
        "You may import pandas datareader, datetime, and andas.  \n",
        "Stooqから2021年のAppleの日次株価を取得し、dfというDataFrameに格納します。  \n",
        "pandasのdatareader、datetime、andasをインポートしてもよい。"
      ],
      "metadata": {
        "id": "x4lveZOq2kMM"
      }
    },
    {
      "cell_type": "markdown",
      "source": [
        "ex01 display df by just typing df.\n",
        "> df  \n",
        "—-data will be displayed here—-"
      ],
      "metadata": {
        "id": "EriBRnEA2muQ"
      }
    },
    {
      "cell_type": "markdown",
      "source": [
        "ex02 Extract the close prices from df."
      ],
      "metadata": {
        "id": "P22ufrmf2xpZ"
      }
    },
    {
      "cell_type": "markdown",
      "source": [
        "ex03 Extract the open, high, low, and close prices and the volume of February 4 from df."
      ],
      "metadata": {
        "id": "CUUo0unz2-Mm"
      }
    },
    {
      "cell_type": "markdown",
      "source": [
        "ex04 Extract the open, high, low, and close prices and the volume of 30th data from df.  \n",
        "(Jan 30 is not the answer because we have holidays.)"
      ],
      "metadata": {
        "id": "XT6l0RwT2_am"
      }
    }
  ]
}