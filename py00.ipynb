{
  "nbformat": 4,
  "nbformat_minor": 0,
  "metadata": {
    "colab": {
      "name": "Untitled0.ipynb",
      "provenance": [],
      "authorship_tag": "ABX9TyPg7tEn/TUJ1fQ40Ii9LhlO",
      "include_colab_link": true
    },
    "kernelspec": {
      "name": "python3",
      "display_name": "Python 3"
    },
    "language_info": {
      "name": "python"
    }
  },
  "cells": [
    {
      "cell_type": "markdown",
      "metadata": {
        "id": "view-in-github",
        "colab_type": "text"
      },
      "source": [
        "<a href=\"https://colab.research.google.com/github/mmizuki1817/24Osaka/blob/main/py00.ipynb\" target=\"_parent\"><img src=\"https://colab.research.google.com/assets/colab-badge.svg\" alt=\"Open In Colab\"/></a>"
      ]
    },
    {
      "cell_type": "code",
      "execution_count": 1,
      "metadata": {
        "colab": {
          "base_uri": "https://localhost:8080/"
        },
        "id": "i2ymo78KVvYq",
        "outputId": "16b8be89-e04e-4bf5-b186-10ce888daeea"
      },
      "outputs": [
        {
          "output_type": "stream",
          "name": "stdout",
          "text": [
            "Hello Osaka!\n"
          ]
        }
      ],
      "source": [
        "#ex00\n",
        "# Print ”Hello Osaka!”\n",
        "\n",
        "print(\"Hello Osaka!\")"
      ]
    },
    {
      "cell_type": "code",
      "source": [
        "#ex01\n",
        "#Print all the odd numbers up to 19. Make sure that they are separated by commas\n",
        "#and spaces.\n",
        "#> 1, 3, 5, 7, 9, 11, 13, 15, 17, 19\n",
        "\n",
        "i = 0\n",
        "for i in range(1, 20, 2):\n",
        "    print(i, end='')\n",
        "    if i == 19:\n",
        "        break\n",
        "    print(\", \", end='')\n",
        "    i += 1"
      ],
      "metadata": {
        "id": "ITeDGZB5V0Yy"
      },
      "execution_count": null,
      "outputs": []
    },
    {
      "cell_type": "code",
      "source": [
        "#ex02\n",
        "#Create a function that prints out Hello Osaka!.\n",
        "#> hello Osaka()\n",
        "#> Hello Osaka!\n",
        "def main():\n",
        "    hello_Osaka()\n",
        "\n",
        "def hello_Osaka():\n",
        "    print(\"Hello Osaka!\")\n",
        "\n",
        "main()"
      ],
      "metadata": {
        "colab": {
          "base_uri": "https://localhost:8080/"
        },
        "id": "xSHvw-EhV48U",
        "outputId": "5e1c9462-0e6f-4e57-a3fd-540a8d5c6f4a"
      },
      "execution_count": 2,
      "outputs": [
        {
          "output_type": "stream",
          "name": "stdout",
          "text": [
            "Hello Osaka!\n"
          ]
        }
      ]
    },
    {
      "cell_type": "code",
      "source": [
        "#ex03\n",
        "#Create the function semicircle(x) so that the figure of y = semicircle(x) looks like this.\n",
        "#You may import numpy.\n",
        "\n",
        "#y = semicircle(x)の図形が以下のようになるように関数 semicircle(x) を作成します。\n",
        "#numpy.をインポートしてもよい。\n",
        "\n",
        "import numpy as np\n",
        "\n",
        "def main():\n",
        "    x = 0.00\n",
        "    y = semicircle(x)\n",
        "    print(y)\n",
        "    \n",
        "def semicircle(x):\n",
        "    y = np.sqrt(1 - x**2)\n",
        "    return y\n",
        "    \n",
        "main()"
      ],
      "metadata": {
        "colab": {
          "base_uri": "https://localhost:8080/"
        },
        "id": "yJSOiqkKV8MS",
        "outputId": "662ee28f-86de-4295-e702-116781a9c4d5"
      },
      "execution_count": 3,
      "outputs": [
        {
          "output_type": "stream",
          "name": "stdout",
          "text": [
            "1.0\n"
          ]
        }
      ]
    },
    {
      "cell_type": "code",
      "source": [
        "#ex04\n",
        "#Plot semicircle(x) from x = −1 to x = 1 using matplotlib. Make sure your figure is\n",
        "#identical to the figure in Ex03.\n",
        "\n",
        "#matplotlib を使って、x = -1 から x = 1 までの semicircle(x) をプロットしてください。\n",
        "#あなたの図は、必ず Ex03の図と同じです。\n",
        "\n",
        "import numpy as np\n",
        "import matplotlib.pyplot as plt\n",
        "import matplotlib.pyplot as savefig\n",
        "\n",
        "def main():\n",
        "    semicircle()\n",
        "    \n",
        "def semicircle():\n",
        "    # 半径\n",
        "    r = 1.00\n",
        "    # 円の方程式\n",
        "    x = np.arange(-r, r, 0.001)\n",
        "    y = np.sqrt(r**2 - x**2)\n",
        "\n",
        "    plt.title(\"semicircle\")\n",
        "    plt.xlabel(\"x\", fontsize=20)\n",
        "    plt.ylabel(\"y\", fontsize=20)\n",
        "    \n",
        "    plt.xlim(-1.00, 1.00)\n",
        "    plt.ylim(0.0, 1.0)\n",
        "    \n",
        "    plt.plot(x, y)\n",
        "    plt.axis(\"equal\")\n",
        "    plt.savefig(\"semicircle.jpg\")\n",
        "\n",
        "main()"
      ],
      "metadata": {
        "colab": {
          "base_uri": "https://localhost:8080/",
          "height": 304
        },
        "id": "KI2vqV6JV_12",
        "outputId": "ae4519f9-b8fa-473a-8fbd-93e6226fd947"
      },
      "execution_count": 4,
      "outputs": [
        {
          "output_type": "display_data",
          "data": {
            "image/png": "[encoded data removed]",
            "text/plain": [
              "<Figure size 432x288 with 1 Axes>"
            ]
          },
          "metadata": {
            "needs_background": "light"
          }
        }
      ]
    }
  ]
}