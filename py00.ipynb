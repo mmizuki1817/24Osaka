{
  "nbformat": 4,
  "nbformat_minor": 0,
  "metadata": {
    "colab": {
      "name": "Untitled0.ipynb",
      "provenance": [],
      "authorship_tag": "ABX9TyNUzBKSgZZE2AgN5lNJsqBu",
      "include_colab_link": true
    },
    "kernelspec": {
      "name": "python3",
      "display_name": "Python 3"
    },
    "language_info": {
      "name": "python"
    }
  },
  "cells": [
    {
      "cell_type": "markdown",
      "metadata": {
        "id": "view-in-github",
        "colab_type": "text"
      },
      "source": [
        "<a href=\"https://colab.research.google.com/github/mmizuki1817/24Osaka/blob/main/py00.ipynb\" target=\"_parent\"><img src=\"https://colab.research.google.com/assets/colab-badge.svg\" alt=\"Open In Colab\"/></a>"
      ]
    },
    {
      "cell_type": "markdown",
      "source": [
        "ex00\n",
        "Print ”Hello Osaka!”"
      ],
      "metadata": {
        "id": "_2a-Fyn039yt"
      }
    },
    {
      "cell_type": "code",
      "execution_count": null,
      "metadata": {
        "colab": {
          "base_uri": "https://localhost:8080/"
        },
        "id": "i2ymo78KVvYq",
        "outputId": "16b8be89-e04e-4bf5-b186-10ce888daeea"
      },
      "outputs": [
        {
          "output_type": "stream",
          "name": "stdout",
          "text": [
            "Hello Osaka!\n"
          ]
        }
      ],
      "source": [
        "print(\"Hello Osaka!\")"
      ]
    },
    {
      "cell_type": "markdown",
      "source": [
        "ex01\n",
        "Print all the odd numbers up to 19.  \n",
        " Make sure that they are separated by commas\n",
        "and spaces.\n",
        "> 1, 3, 5, 7, 9, 11, 13, 15, 17, 19"
      ],
      "metadata": {
        "id": "4_Wiz0pt4Kbd"
      }
    },
    {
      "cell_type": "code",
      "source": [
        "i = 0\n",
        "for i in range(1, 20, 2):\n",
        "    print(i, end='')\n",
        "    if i == 19:\n",
        "        break\n",
        "    print(\", \", end='')\n",
        "    i += 1"
      ],
      "metadata": {
        "id": "ITeDGZB5V0Yy",
        "colab": {
          "base_uri": "https://localhost:8080/"
        },
        "outputId": "13ce6808-3955-43c2-e524-fcdb39f968cc"
      },
      "execution_count": 38,
      "outputs": [
        {
          "output_type": "stream",
          "name": "stdout",
          "text": [
            "1, 3, 5, 7, 9, 11, 13, 15, 17, 19"
          ]
        }
      ]
    },
    {
      "cell_type": "markdown",
      "source": [
        "ex02\n",
        "Create a function that prints out Hello Osaka!.\n",
        "> hello Osaka()  \n",
        "> Hello Osaka!"
      ],
      "metadata": {
        "id": "qODdzsx14RrE"
      }
    },
    {
      "cell_type": "code",
      "source": [
        "def main():\n",
        "    hello_Osaka()\n",
        "\n",
        "def hello_Osaka():\n",
        "    print(\"Hello Osaka!\")\n",
        "\n",
        "main()"
      ],
      "metadata": {
        "colab": {
          "base_uri": "https://localhost:8080/"
        },
        "id": "xSHvw-EhV48U",
        "outputId": "5e1c9462-0e6f-4e57-a3fd-540a8d5c6f4a"
      },
      "execution_count": null,
      "outputs": [
        {
          "output_type": "stream",
          "name": "stdout",
          "text": [
            "Hello Osaka!\n"
          ]
        }
      ]
    },
    {
      "cell_type": "markdown",
      "source": [
        "ex03\n",
        "Create the function semicircle(x) so that the figure of y = semicircle(x) looks like this.  \n",
        "You may import numpy.\n",
        "\n",
        "y = semicircle(x)の図形が以下のようになるように関数 semicircle(x) を作成します。  \n",
        "numpy.をインポートしてもよい。"
      ],
      "metadata": {
        "id": "euf_34Tl4xIY"
      }
    },
    {
      "cell_type": "markdown",
      "source": [
        "![スクリーンショット 2022-01-15 221831.jpg](data:image/jpeg;base64,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)"
      ],
      "metadata": {
        "id": "70RD7s6D6CQa"
      }
    },
    {
      "cell_type": "code",
      "source": [
        "import numpy as np\n",
        "\n",
        "def main():\n",
        "    x = 0.00\n",
        "    y = semicircle(x)\n",
        "    print(y)\n",
        "    \n",
        "def semicircle(x):\n",
        "    y = np.sqrt(1 - x**2)\n",
        "    return y\n",
        "    \n",
        "main()"
      ],
      "metadata": {
        "colab": {
          "base_uri": "https://localhost:8080/"
        },
        "id": "yJSOiqkKV8MS",
        "outputId": "662ee28f-86de-4295-e702-116781a9c4d5"
      },
      "execution_count": null,
      "outputs": [
        {
          "output_type": "stream",
          "name": "stdout",
          "text": [
            "1.0\n"
          ]
        }
      ]
    },
    {
      "cell_type": "markdown",
      "source": [
        "ex04\n",
        "Plot semicircle(x) from x = −1 to x = 1 using matplotlib.   \n",
        "Make sure your figure is identical to the figure in Ex03.\n",
        "\n",
        "matplotlib を使って、x = -1 から x = 1 までの semicircle(x) をプロットしてください。  \n",
        "あなたの図は、必ず Ex03の図と同じです。"
      ],
      "metadata": {
        "id": "PV6cov4R5XhK"
      }
    },
    {
      "cell_type": "code",
      "source": [
        "import numpy as np\n",
        "import matplotlib.pyplot as plt\n",
        "import matplotlib.pyplot as savefig\n",
        "\n",
        "def main():\n",
        "    semicircle()\n",
        "    \n",
        "def semicircle():\n",
        "    # 半径\n",
        "    r = 1.00  \n",
        "    # 円の方程式\n",
        "    x = np.arange(-r, r, 0.0001)\n",
        "    y = np.sqrt(r**2 - x**2)\n",
        "\n",
        "    fig = plt.figure()\n",
        "    ax = fig.add_subplot(1, 1, 1)\n",
        "\n",
        "    plt.title(\"Semicircle\")\n",
        "    plt.xlabel(\"x\", fontsize=20)\n",
        "    plt.ylabel(\"y\", fontsize=20)\n",
        "  \n",
        "    ax.plot(x, y)\n",
        "    ax.set_aspect(\"equal\", adjustable = \"box\")\n",
        "    plt.savefig(\"semicircle.jpg\")\n",
        "\n",
        "main()\n",
        "\n",
        "#参考https://qiita.com/skotaro/items/08dc0b8c5704c94eafb9"
      ],
      "metadata": {
        "id": "FLZ3HMHq_IvV",
        "outputId": "65c2bf10-f4f3-4339-b3dc-fce2d331e9dd",
        "colab": {
          "base_uri": "https://localhost:8080/",
          "height": 254
        }
      },
      "execution_count": 55,
      "outputs": [
        {
          "output_type": "display_data",
          "data": {
            "image/png": "[encoded data removed]",
            "text/plain": [
              "<Figure size 432x288 with 1 Axes>"
            ]
          },
          "metadata": {
            "needs_background": "light"
          }
        }
      ]
    },
    {
      "cell_type": "markdown",
      "source": [
        "ex05\n",
        "Create a function called annoying questions using input function.   \n",
        "It asks your name, age, and sex. The output depends on the input as follows.  \n",
        "\n",
        "input関数を使って、迷惑な質問という関数を作成します。これはあなたの名前を尋ねます。  \n",
        "年齢、性別 出力は入力に依存して以下のようになる。  \n",
        "\n",
        "(Male & age > 24) → You’re a full grown man, ”YOUR NAME”  \n",
        "(Male & age <= 24) → You’re still kid, ”YOUR NAME”  \n",
        "(Female) → You’re beautiful, ”YOUR NAME”  \n",
        "e.g.  \n",
        ">Enter your name: Atsushi  \n",
        ">Enter your age: 25  \n",
        ">Enter your sex(m/f): man  \n",
        ">type it again(m/f)  \n",
        ">Enter your sex(m/f): m  \n",
        ">You’re a full grown man, Atsushi !  "
      ],
      "metadata": {
        "id": "SvuLvu-n5jwE"
      }
    },
    {
      "cell_type": "code",
      "source": [
        "while True:\n",
        "  name = input(\"Enter your name: \")\n",
        "  if len(name) > 0:\n",
        "    break\n",
        "\n",
        "while True:\n",
        "  age = input(\"Enter your age: \")\n",
        "  if age.isnumeric() == True: \n",
        "    break\n",
        "\n",
        "while True:\n",
        "  sex = input(\"Enter your sex(m/f): \")\n",
        "  if sex == \"f\" or sex == \"m\":\n",
        "    break\n",
        "\n",
        "if sex == \"f\":\n",
        "  print(\"You're beautiful, \" + name, \"!\")\n",
        "else:\n",
        "  if 0 < int(age) and int(age) <= 24:\n",
        "    print(\"You're still  kid, \" + name, \"!\")\n",
        "  elif 24 < int(age) and int(age) < 130:\n",
        "    print(\"You're full frown man\" + name, \"!\")\n",
        "  else:\n",
        "    print(\"You may not be a human\")\n",
        "\n"
      ],
      "metadata": {
        "colab": {
          "base_uri": "https://localhost:8080/"
        },
        "id": "0iFws_FKWUdr",
        "outputId": "952cb1c9-a433-43d4-8efc-4150eeae615b"
      },
      "execution_count": 30,
      "outputs": [
        {
          "output_type": "stream",
          "name": "stdout",
          "text": [
            "Enter your name: mm\n",
            "Enter your age: 1000\n",
            "Enter your sex(m/f): m\n",
            "You may not be a human\n"
          ]
        }
      ]
    },
    {
      "cell_type": "markdown",
      "source": [
        "ex06\n",
        "Make the Fizz Buzz function and print out the out put up to 100.(Google it!)  \n",
        "3で割り切れる->Fizz!  \n",
        "5で割り切れる->Buzz!  \n",
        "３でも５でも割り切れる->FizzBuzz!  "
      ],
      "metadata": {
        "id": "de6AKXfF5zwK"
      }
    },
    {
      "cell_type": "code",
      "source": [
        "\n",
        "\n",
        "def main():\n",
        "  fizz_buzz()\n",
        "\n",
        "def fizz_buzz():\n",
        "  for i in range(1, 101):\n",
        "    if i % 3 == 0 and i % 5 == 0:\n",
        "      print(\"FizzBuzz!\")\n",
        "    elif i % 3 == 0:\n",
        "      print(\"Fizz!\")\n",
        "    elif i % 5 == 0:\n",
        "      print(\"Buzz!\")\n",
        "    else:\n",
        "      print(i)\n",
        "\n",
        "main()"
      ],
      "metadata": {
        "colab": {
          "base_uri": "https://localhost:8080/"
        },
        "id": "vzvZJ5s31SSX",
        "outputId": "3015d8af-d03d-4a65-9e0c-d99458d878f7"
      },
      "execution_count": 37,
      "outputs": [
        {
          "output_type": "stream",
          "name": "stdout",
          "text": [
            "1\n",
            "2\n",
            "Fizz!\n",
            "4\n",
            "Buzz!\n",
            "Fizz!\n",
            "7\n",
            "8\n",
            "Fizz!\n",
            "Buzz!\n",
            "11\n",
            "Fizz!\n",
            "13\n",
            "14\n",
            "FizzBuzz!\n",
            "16\n",
            "17\n",
            "Fizz!\n",
            "19\n",
            "Buzz!\n",
            "Fizz!\n",
            "22\n",
            "23\n",
            "Fizz!\n",
            "Buzz!\n",
            "26\n",
            "Fizz!\n",
            "28\n",
            "29\n",
            "FizzBuzz!\n",
            "31\n",
            "32\n",
            "Fizz!\n",
            "34\n",
            "Buzz!\n",
            "Fizz!\n",
            "37\n",
            "38\n",
            "Fizz!\n",
            "Buzz!\n",
            "41\n",
            "Fizz!\n",
            "43\n",
            "44\n",
            "FizzBuzz!\n",
            "46\n",
            "47\n",
            "Fizz!\n",
            "49\n",
            "Buzz!\n",
            "Fizz!\n",
            "52\n",
            "53\n",
            "Fizz!\n",
            "Buzz!\n",
            "56\n",
            "Fizz!\n",
            "58\n",
            "59\n",
            "FizzBuzz!\n",
            "61\n",
            "62\n",
            "Fizz!\n",
            "64\n",
            "Buzz!\n",
            "Fizz!\n",
            "67\n",
            "68\n",
            "Fizz!\n",
            "Buzz!\n",
            "71\n",
            "Fizz!\n",
            "73\n",
            "74\n",
            "FizzBuzz!\n",
            "76\n",
            "77\n",
            "Fizz!\n",
            "79\n",
            "Buzz!\n",
            "Fizz!\n",
            "82\n",
            "83\n",
            "Fizz!\n",
            "Buzz!\n",
            "86\n",
            "Fizz!\n",
            "88\n",
            "89\n",
            "FizzBuzz!\n",
            "91\n",
            "92\n",
            "Fizz!\n",
            "94\n",
            "Buzz!\n",
            "Fizz!\n",
            "97\n",
            "98\n",
            "Fizz!\n",
            "Buzz!\n"
          ]
        }
      ]
    }
  ]
}